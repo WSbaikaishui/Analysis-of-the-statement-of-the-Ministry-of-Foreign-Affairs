{
 "cells": [
  {
   "cell_type": "code",
   "execution_count": 7,
   "id": "af169e81",
   "metadata": {},
   "outputs": [
    {
     "name": "stdout",
     "output_type": "stream",
     "text": [
      "A1:D5025\n"
     ]
    }
   ],
   "source": [
    "import requests\n",
    "import re\n",
    "from openpyxl import load_workbook\n",
    "import openpyxl\n",
    "workbook = load_workbook(filename='第二类.xlsx')\n",
    "sheet1 = workbook['Sheet1']\n",
    "print(sheet1.dimensions)\n",
    "wb=openpyxl.Workbook() \n",
    "ws = wb.create_sheet(index=0,title='Sheet1') "
   ]
  },
  {
   "cell_type": "code",
   "execution_count": 8,
   "id": "be904f2b",
   "metadata": {},
   "outputs": [
    {
     "name": "stdout",
     "output_type": "stream",
     "text": [
      "1597\n"
     ]
    }
   ],
   "source": [
    "j = 0\n",
    "for  i in range(1,3752):\n",
    "    temp = sheet1.cell(row=i,column=3).value\n",
    "    temp1 = sheet1.cell(row=i,column=4).value\n",
    "    USA = temp.count('美国')+temp.count('中美')+temp.count('美方')+temp1.count('美国')+temp1.count('中美')+temp1.count('美方')\n",
    "    if USA >= 1:\n",
    "        j += 1\n",
    "        ws.cell(row = j, column=1).value = sheet1.cell(row=i,column=1).value\n",
    "        ws.cell(row = j, column=3).value = sheet1.cell(row=i,column=3).value\n",
    "        ws.cell(row = j, column=4).value = sheet1.cell(row=i,column=4).value\n",
    "print(j)\n",
    "string = r'中美关系第二类.xlsx'\n",
    "wb.save(string)      \n",
    "        \n",
    "        "
   ]
  },
  {
   "cell_type": "code",
   "execution_count": 9,
   "id": "ab7bab75",
   "metadata": {},
   "outputs": [
    {
     "name": "stdout",
     "output_type": "stream",
     "text": [
      "A1:E3713\n"
     ]
    }
   ],
   "source": [
    "workbook = load_workbook(filename='第一类.xlsx')\n",
    "sheet1 = workbook['Sheet1']\n",
    "print(sheet1.dimensions)\n",
    "wb=openpyxl.Workbook() \n",
    "ws = wb.create_sheet(index=0,title='Sheet1') "
   ]
  },
  {
   "cell_type": "code",
   "execution_count": 10,
   "id": "cd078209",
   "metadata": {},
   "outputs": [
    {
     "name": "stdout",
     "output_type": "stream",
     "text": [
      "1646\n"
     ]
    }
   ],
   "source": [
    "j = 0\n",
    "for  i in range(1,3714):\n",
    "    temp = sheet1.cell(row=i,column=3).value\n",
    "    temp1 = sheet1.cell(row=i,column=4).value\n",
    "    USA = temp.count('美国')+temp.count('中美')+temp.count('美方')+temp1.count('美国')+temp1.count('中美')+temp1.count('美方')\n",
    "    if USA >= 1:\n",
    "        j += 1\n",
    "        ws.cell(row = j, column=1).value = sheet1.cell(row=i,column=1).value\n",
    "        ws.cell(row = j, column=2).value = sheet1.cell(row=i,column=2).value\n",
    "        ws.cell(row = j, column=3).value = sheet1.cell(row=i,column=3).value\n",
    "        ws.cell(row = j, column=4).value = sheet1.cell(row=i,column=4).value\n",
    "        ws.cell(row = j, column=5).value = sheet1.cell(row=i,column=5).value\n",
    "\n",
    "print(j)\n",
    "string = r'中美关系第一类.xlsx'\n",
    "wb.save(string)  "
   ]
  },
  {
   "cell_type": "code",
   "execution_count": null,
   "id": "81d8f1e0",
   "metadata": {},
   "outputs": [],
   "source": []
  }
 ],
 "metadata": {
  "kernelspec": {
   "display_name": "Python 3 (ipykernel)",
   "language": "python",
   "name": "python3"
  },
  "language_info": {
   "codemirror_mode": {
    "name": "ipython",
    "version": 3
   },
   "file_extension": ".py",
   "mimetype": "text/x-python",
   "name": "python",
   "nbconvert_exporter": "python",
   "pygments_lexer": "ipython3",
   "version": "3.9.7"
  }
 },
 "nbformat": 4,
 "nbformat_minor": 5
}
