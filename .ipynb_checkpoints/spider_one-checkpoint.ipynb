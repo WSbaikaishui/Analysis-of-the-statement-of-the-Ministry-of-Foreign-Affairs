{
 "cells": [
  {
   "cell_type": "code",
   "execution_count": 3,
   "id": "135f64d5",
   "metadata": {},
   "outputs": [],
   "source": [
    "import requests\n",
    "from bs4 import BeautifulSoup\n",
    "from openpyxl import load_workbook"
   ]
  },
  {
   "cell_type": "code",
   "execution_count": 4,
   "id": "8221d97b",
   "metadata": {},
   "outputs": [
    {
     "name": "stdout",
     "output_type": "stream",
     "text": [
      "['Sheet1', 'Sheet']\n"
     ]
    }
   ],
   "source": [
    "workbook = load_workbook(filename='Data.xlsx')\n",
    "print(workbook.sheetnames)"
   ]
  },
  {
   "cell_type": "code",
   "execution_count": 8,
   "id": "b144cfb3",
   "metadata": {},
   "outputs": [
    {
     "name": "stdout",
     "output_type": "stream",
     "text": [
      "<Worksheet \"Sheet1\">\n",
      "A1:F990\n"
     ]
    }
   ],
   "source": [
    "sheet1 = workbook[\"Sheet1\"]\n",
    "print(sheet1)\n",
    "print(sheet1.dimensions)"
   ]
  },
  {
   "cell_type": "code",
   "execution_count": 17,
   "id": "2d70a2a2",
   "metadata": {},
   "outputs": [],
   "source": [
    "for i in range(990):\n",
    "    url = 'https://www.fmprc.gov.cn/web/fyrbt_673021/jzhsl_673025/t'+ str(sheet1.cell(row=i+1,column=1).value)[3:]\n",
    "    res = requests.get(url)\n",
    "    res.encoding = 'UTF-8'\n",
    "    soup = BeautifulSoup(res.text)\n",
    "#     print(url)\n",
    "    a_htmls = soup.find_all('div',class_=\"content\") \n",
    "#     print(a_htmls)\n",
    "    for a in a_htmls:\n",
    "        string = a.get_text()\n",
    "#         print(string)\n",
    "        sheet1.cell(row=i+1, column=6).value =string\n",
    "# cell2 = sheet1.cell(row=1,column=1)\n",
    "# print(cell2.value)"
   ]
  },
  {
   "cell_type": "code",
   "execution_count": 18,
   "id": "9db15d84",
   "metadata": {},
   "outputs": [],
   "source": [
    "workbook.save('Data.xlsx')"
   ]
  },
  {
   "cell_type": "code",
   "execution_count": null,
   "id": "e3aeeac7",
   "metadata": {},
   "outputs": [],
   "source": []
  }
 ],
 "metadata": {
  "kernelspec": {
   "display_name": "Python 3 (ipykernel)",
   "language": "python",
   "name": "python3"
  },
  "language_info": {
   "codemirror_mode": {
    "name": "ipython",
    "version": 3
   },
   "file_extension": ".py",
   "mimetype": "text/x-python",
   "name": "python",
   "nbconvert_exporter": "python",
   "pygments_lexer": "ipython3",
   "version": "3.9.7"
  }
 },
 "nbformat": 4,
 "nbformat_minor": 5
}
